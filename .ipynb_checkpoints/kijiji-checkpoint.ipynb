{
 "cells": [
  {
   "cell_type": "markdown",
   "metadata": {},
   "source": [
    "### Join all the CSVs"
   ]
  },
  {
   "cell_type": "code",
   "execution_count": 1,
   "metadata": {},
   "outputs": [],
   "source": [
    "import pandas as pd"
   ]
  },
  {
   "cell_type": "code",
   "execution_count": 2,
   "metadata": {},
   "outputs": [],
   "source": [
    "a = pd.read_csv('kijiji-470.csv')\n",
    "b = pd.read_csv('kijiji-2856.csv')\n",
    "c = pd.read_csv('kijiji-36 - part 3.csv')\n",
    "d = pd.read_csv('kijiji-part4.csv')"
   ]
  },
  {
   "cell_type": "code",
   "execution_count": 3,
   "metadata": {},
   "outputs": [],
   "source": [
    "final = pd.concat([a,b,c,d])"
   ]
  },
  {
   "cell_type": "code",
   "execution_count": 4,
   "metadata": {},
   "outputs": [
    {
     "name": "stdout",
     "output_type": "stream",
     "text": [
      "<class 'pandas.core.frame.DataFrame'>\n",
      "Int64Index: 3729 entries, 0 to 364\n",
      "Data columns (total 7 columns):\n",
      "Title           3728 non-null object\n",
      "Price           3729 non-null object\n",
      "Description     3729 non-null object\n",
      "Location        3728 non-null object\n",
      "Ddate Posted    3688 non-null object\n",
      "Features        3727 non-null object\n",
      "URL             0 non-null float64\n",
      "dtypes: float64(1), object(6)\n",
      "memory usage: 233.1+ KB\n"
     ]
    }
   ],
   "source": [
    "final.info()"
   ]
  },
  {
   "cell_type": "code",
   "execution_count": 7,
   "metadata": {},
   "outputs": [
    {
     "data": {
      "text/html": [
       "<div>\n",
       "<style>\n",
       "    .dataframe thead tr:only-child th {\n",
       "        text-align: right;\n",
       "    }\n",
       "\n",
       "    .dataframe thead th {\n",
       "        text-align: left;\n",
       "    }\n",
       "\n",
       "    .dataframe tbody tr th {\n",
       "        vertical-align: top;\n",
       "    }\n",
       "</style>\n",
       "<table border=\"1\" class=\"dataframe\">\n",
       "  <thead>\n",
       "    <tr style=\"text-align: right;\">\n",
       "      <th></th>\n",
       "      <th>Title</th>\n",
       "      <th>Price</th>\n",
       "      <th>Description</th>\n",
       "      <th>Location</th>\n",
       "      <th>Ddate Posted</th>\n",
       "      <th>Features</th>\n",
       "      <th>URL</th>\n",
       "    </tr>\n",
       "  </thead>\n",
       "  <tbody>\n",
       "    <tr>\n",
       "      <th>0</th>\n",
       "      <td>One Bedroom Suites Cherryhill Village  for Ren...</td>\n",
       "      <td>$1,145.00</td>\n",
       "      <td>[&lt;div class=\"descriptionContainer-3544745383\"&gt;...</td>\n",
       "      <td>&lt;span class=\"address-3617944557\" itemprop=\"add...</td>\n",
       "      <td>&lt;time datetime=\"2019-09-04T17:54:00.000Z\" titl...</td>\n",
       "      <td>Unit TypeApartment : Bedrooms1 : Bathrooms1 : ...</td>\n",
       "      <td>NaN</td>\n",
       "    </tr>\n",
       "    <tr>\n",
       "      <th>1</th>\n",
       "      <td>Upgraded 2 bedroom apartment for rent in Owen ...</td>\n",
       "      <td>$1,625.00</td>\n",
       "      <td>[&lt;div class=\"descriptionContainer-3544745383\"&gt;...</td>\n",
       "      <td>&lt;span class=\"address-3617944557\" itemprop=\"add...</td>\n",
       "      <td>&lt;time datetime=\"2019-08-29T00:09:19.000Z\" titl...</td>\n",
       "      <td>Unit TypeApartment : Bedrooms2 : Bathrooms1 : ...</td>\n",
       "      <td>NaN</td>\n",
       "    </tr>\n",
       "    <tr>\n",
       "      <th>2</th>\n",
       "      <td>Well furnished room in a super clean house in ...</td>\n",
       "      <td>$800.00</td>\n",
       "      <td>[&lt;div class=\"descriptionContainer-3544745383\"&gt;...</td>\n",
       "      <td>&lt;span class=\"address-3617944557\" itemprop=\"add...</td>\n",
       "      <td>&lt;time datetime=\"2019-09-01T19:26:36.000Z\" titl...</td>\n",
       "      <td>Furnished : YesPet Friendly : No</td>\n",
       "      <td>NaN</td>\n",
       "    </tr>\n",
       "    <tr>\n",
       "      <th>3</th>\n",
       "      <td>Cambridge - Secure Outdoor Parking (Vehicles, ...</td>\n",
       "      <td>$55.00</td>\n",
       "      <td>[&lt;div class=\"descriptionContainer-3544745383\"&gt;...</td>\n",
       "      <td>&lt;span class=\"address-3617944557\" itemprop=\"add...</td>\n",
       "      <td>&lt;time datetime=\"2019-09-02T22:55:50.000Z\" titl...</td>\n",
       "      <td>More Info : Parking</td>\n",
       "      <td>NaN</td>\n",
       "    </tr>\n",
       "    <tr>\n",
       "      <th>4</th>\n",
       "      <td>MAIN FLOOR 1 BEDROOM APT IN AN 11 PLEX</td>\n",
       "      <td>$850.00</td>\n",
       "      <td>[&lt;div class=\"descriptionContainer-3544745383\"&gt;...</td>\n",
       "      <td>&lt;span class=\"address-3617944557\" itemprop=\"add...</td>\n",
       "      <td>&lt;time datetime=\"2019-09-01T00:55:07.000Z\" titl...</td>\n",
       "      <td>Unit TypeApartment : Bedrooms1 : Bathrooms1 : ...</td>\n",
       "      <td>NaN</td>\n",
       "    </tr>\n",
       "  </tbody>\n",
       "</table>\n",
       "</div>"
      ],
      "text/plain": [
       "                                               Title      Price  \\\n",
       "0  One Bedroom Suites Cherryhill Village  for Ren...  $1,145.00   \n",
       "1  Upgraded 2 bedroom apartment for rent in Owen ...  $1,625.00   \n",
       "2  Well furnished room in a super clean house in ...    $800.00   \n",
       "3  Cambridge - Secure Outdoor Parking (Vehicles, ...     $55.00   \n",
       "4             MAIN FLOOR 1 BEDROOM APT IN AN 11 PLEX    $850.00   \n",
       "\n",
       "                                         Description  \\\n",
       "0  [<div class=\"descriptionContainer-3544745383\">...   \n",
       "1  [<div class=\"descriptionContainer-3544745383\">...   \n",
       "2  [<div class=\"descriptionContainer-3544745383\">...   \n",
       "3  [<div class=\"descriptionContainer-3544745383\">...   \n",
       "4  [<div class=\"descriptionContainer-3544745383\">...   \n",
       "\n",
       "                                            Location  \\\n",
       "0  <span class=\"address-3617944557\" itemprop=\"add...   \n",
       "1  <span class=\"address-3617944557\" itemprop=\"add...   \n",
       "2  <span class=\"address-3617944557\" itemprop=\"add...   \n",
       "3  <span class=\"address-3617944557\" itemprop=\"add...   \n",
       "4  <span class=\"address-3617944557\" itemprop=\"add...   \n",
       "\n",
       "                                        Ddate Posted  \\\n",
       "0  <time datetime=\"2019-09-04T17:54:00.000Z\" titl...   \n",
       "1  <time datetime=\"2019-08-29T00:09:19.000Z\" titl...   \n",
       "2  <time datetime=\"2019-09-01T19:26:36.000Z\" titl...   \n",
       "3  <time datetime=\"2019-09-02T22:55:50.000Z\" titl...   \n",
       "4  <time datetime=\"2019-09-01T00:55:07.000Z\" titl...   \n",
       "\n",
       "                                            Features  URL  \n",
       "0  Unit TypeApartment : Bedrooms1 : Bathrooms1 : ...  NaN  \n",
       "1  Unit TypeApartment : Bedrooms2 : Bathrooms1 : ...  NaN  \n",
       "2                   Furnished : YesPet Friendly : No  NaN  \n",
       "3                                More Info : Parking  NaN  \n",
       "4  Unit TypeApartment : Bedrooms1 : Bathrooms1 : ...  NaN  "
      ]
     },
     "execution_count": 7,
     "metadata": {},
     "output_type": "execute_result"
    }
   ],
   "source": [
    "final.head()"
   ]
  },
  {
   "cell_type": "code",
   "execution_count": null,
   "metadata": {},
   "outputs": [],
   "source": []
  }
 ],
 "metadata": {
  "kernelspec": {
   "display_name": "Python 3",
   "language": "python",
   "name": "python3"
  },
  "language_info": {
   "codemirror_mode": {
    "name": "ipython",
    "version": 3
   },
   "file_extension": ".py",
   "mimetype": "text/x-python",
   "name": "python",
   "nbconvert_exporter": "python",
   "pygments_lexer": "ipython3",
   "version": "3.6.4"
  }
 },
 "nbformat": 4,
 "nbformat_minor": 2
}
